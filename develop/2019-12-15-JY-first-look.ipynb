{
 "cells": [
  {
   "cell_type": "code",
   "execution_count": 27,
   "metadata": {},
   "outputs": [],
   "source": [
    "%matplotlib inline\n",
    "import numpy as np\n",
    "import matplotlib.pyplot as plt\n",
    "import pandas as pd\n",
    "import seaborn as sns\n",
    "sns.set();"
   ]
  },
  {
   "cell_type": "code",
   "execution_count": 2,
   "metadata": {},
   "outputs": [],
   "source": [
    "df = pd.read_excel(\"../data/coalpublic2013.xls\",header=3, index_col='MSHA ID')"
   ]
  },
  {
   "cell_type": "code",
   "execution_count": 3,
   "metadata": {},
   "outputs": [
    {
     "data": {
      "text/html": [
       "<div>\n",
       "<style scoped>\n",
       "    .dataframe tbody tr th:only-of-type {\n",
       "        vertical-align: middle;\n",
       "    }\n",
       "\n",
       "    .dataframe tbody tr th {\n",
       "        vertical-align: top;\n",
       "    }\n",
       "\n",
       "    .dataframe thead th {\n",
       "        text-align: right;\n",
       "    }\n",
       "</style>\n",
       "<table border=\"1\" class=\"dataframe\">\n",
       "  <thead>\n",
       "    <tr style=\"text-align: right;\">\n",
       "      <th></th>\n",
       "      <th>Year</th>\n",
       "      <th>Mine Name</th>\n",
       "      <th>Mine State</th>\n",
       "      <th>Mine County</th>\n",
       "      <th>Mine Status</th>\n",
       "      <th>Mine Type</th>\n",
       "      <th>Company Type</th>\n",
       "      <th>Operation Type</th>\n",
       "      <th>Operating Company</th>\n",
       "      <th>Operating Company Address</th>\n",
       "      <th>Union Code</th>\n",
       "      <th>Coal Supply Region</th>\n",
       "      <th>Production (short tons)</th>\n",
       "      <th>Average Employees</th>\n",
       "      <th>Labor Hours</th>\n",
       "    </tr>\n",
       "    <tr>\n",
       "      <th>MSHA ID</th>\n",
       "      <th></th>\n",
       "      <th></th>\n",
       "      <th></th>\n",
       "      <th></th>\n",
       "      <th></th>\n",
       "      <th></th>\n",
       "      <th></th>\n",
       "      <th></th>\n",
       "      <th></th>\n",
       "      <th></th>\n",
       "      <th></th>\n",
       "      <th></th>\n",
       "      <th></th>\n",
       "      <th></th>\n",
       "      <th></th>\n",
       "    </tr>\n",
       "  </thead>\n",
       "  <tbody>\n",
       "    <tr>\n",
       "      <th>103381</th>\n",
       "      <td>2013</td>\n",
       "      <td>Tacoa Highwall Miner</td>\n",
       "      <td>Alabama</td>\n",
       "      <td>Bibb</td>\n",
       "      <td>Active, men working, not producing</td>\n",
       "      <td>Surface</td>\n",
       "      <td>Indepedent Producer Operator</td>\n",
       "      <td>Mine only</td>\n",
       "      <td>Jesse Creek Mining, Llc</td>\n",
       "      <td>1615 Kent Dairy Rd, Alabaster, AL 35007</td>\n",
       "      <td></td>\n",
       "      <td>Appalachia Southern</td>\n",
       "      <td>56004</td>\n",
       "      <td>10</td>\n",
       "      <td>22392</td>\n",
       "    </tr>\n",
       "    <tr>\n",
       "      <th>103404</th>\n",
       "      <td>2013</td>\n",
       "      <td>Reid School Mine</td>\n",
       "      <td>Alabama</td>\n",
       "      <td>Blount</td>\n",
       "      <td>Permanently abandoned</td>\n",
       "      <td>Surface</td>\n",
       "      <td>Indepedent Producer Operator</td>\n",
       "      <td>Mine only</td>\n",
       "      <td>Taft Coal Sales &amp; Associates,</td>\n",
       "      <td>3000 Riverchase Galleria Ste 1, Birmingham, AL...</td>\n",
       "      <td>UNIT</td>\n",
       "      <td>Appalachia Southern</td>\n",
       "      <td>28807</td>\n",
       "      <td>18</td>\n",
       "      <td>28447</td>\n",
       "    </tr>\n",
       "    <tr>\n",
       "      <th>100759</th>\n",
       "      <td>2013</td>\n",
       "      <td>North River #1 Underground Min</td>\n",
       "      <td>Alabama</td>\n",
       "      <td>Fayette</td>\n",
       "      <td>Active, men working, not producing</td>\n",
       "      <td>Underground</td>\n",
       "      <td>Indepedent Producer Operator</td>\n",
       "      <td>Mine and Preparation Plant</td>\n",
       "      <td>Jim Walter Resources Inc</td>\n",
       "      <td>3114 County Rd 63 S, Berry, AL 35546</td>\n",
       "      <td>UNIT</td>\n",
       "      <td>Appalachia Southern</td>\n",
       "      <td>1440115</td>\n",
       "      <td>183</td>\n",
       "      <td>474784</td>\n",
       "    </tr>\n",
       "    <tr>\n",
       "      <th>103246</th>\n",
       "      <td>2013</td>\n",
       "      <td>Bear Creek</td>\n",
       "      <td>Alabama</td>\n",
       "      <td>Franklin</td>\n",
       "      <td>Active</td>\n",
       "      <td>Surface</td>\n",
       "      <td>Indepedent Producer Operator</td>\n",
       "      <td>Mine only</td>\n",
       "      <td>Birmingham Coal &amp; Coke Co., In</td>\n",
       "      <td>912 Edenton Street, Birmingham, AL 35242</td>\n",
       "      <td></td>\n",
       "      <td>Appalachia Southern</td>\n",
       "      <td>87587</td>\n",
       "      <td>13</td>\n",
       "      <td>29193</td>\n",
       "    </tr>\n",
       "    <tr>\n",
       "      <th>103451</th>\n",
       "      <td>2013</td>\n",
       "      <td>Knight Mine</td>\n",
       "      <td>Alabama</td>\n",
       "      <td>Franklin</td>\n",
       "      <td>Active</td>\n",
       "      <td>Surface</td>\n",
       "      <td>Indepedent Producer Operator</td>\n",
       "      <td>Mine only</td>\n",
       "      <td>Birmingham Coal &amp; Coke Co., In</td>\n",
       "      <td>P.O. Box 354, Lynn, AL 35242</td>\n",
       "      <td></td>\n",
       "      <td>Appalachia Southern</td>\n",
       "      <td>147499</td>\n",
       "      <td>27</td>\n",
       "      <td>46393</td>\n",
       "    </tr>\n",
       "  </tbody>\n",
       "</table>\n",
       "</div>"
      ],
      "text/plain": [
       "         Year                       Mine Name Mine State Mine County  \\\n",
       "MSHA ID                                                                \n",
       "103381   2013            Tacoa Highwall Miner    Alabama        Bibb   \n",
       "103404   2013                Reid School Mine    Alabama      Blount   \n",
       "100759   2013  North River #1 Underground Min    Alabama     Fayette   \n",
       "103246   2013                      Bear Creek    Alabama    Franklin   \n",
       "103451   2013                     Knight Mine    Alabama    Franklin   \n",
       "\n",
       "                                Mine Status    Mine Type  \\\n",
       "MSHA ID                                                    \n",
       "103381   Active, men working, not producing      Surface   \n",
       "103404                Permanently abandoned      Surface   \n",
       "100759   Active, men working, not producing  Underground   \n",
       "103246                               Active      Surface   \n",
       "103451                               Active      Surface   \n",
       "\n",
       "                         Company Type              Operation Type  \\\n",
       "MSHA ID                                                             \n",
       "103381   Indepedent Producer Operator                   Mine only   \n",
       "103404   Indepedent Producer Operator                   Mine only   \n",
       "100759   Indepedent Producer Operator  Mine and Preparation Plant   \n",
       "103246   Indepedent Producer Operator                   Mine only   \n",
       "103451   Indepedent Producer Operator                   Mine only   \n",
       "\n",
       "                      Operating Company  \\\n",
       "MSHA ID                                   \n",
       "103381          Jesse Creek Mining, Llc   \n",
       "103404    Taft Coal Sales & Associates,   \n",
       "100759         Jim Walter Resources Inc   \n",
       "103246   Birmingham Coal & Coke Co., In   \n",
       "103451   Birmingham Coal & Coke Co., In   \n",
       "\n",
       "                                 Operating Company Address Union Code  \\\n",
       "MSHA ID                                                                 \n",
       "103381             1615 Kent Dairy Rd, Alabaster, AL 35007              \n",
       "103404   3000 Riverchase Galleria Ste 1, Birmingham, AL...       UNIT   \n",
       "100759                3114 County Rd 63 S, Berry, AL 35546       UNIT   \n",
       "103246            912 Edenton Street, Birmingham, AL 35242              \n",
       "103451                        P.O. Box 354, Lynn, AL 35242              \n",
       "\n",
       "          Coal Supply Region  Production (short tons)  Average Employees  \\\n",
       "MSHA ID                                                                    \n",
       "103381   Appalachia Southern                    56004                 10   \n",
       "103404   Appalachia Southern                    28807                 18   \n",
       "100759   Appalachia Southern                  1440115                183   \n",
       "103246   Appalachia Southern                    87587                 13   \n",
       "103451   Appalachia Southern                   147499                 27   \n",
       "\n",
       "         Labor Hours  \n",
       "MSHA ID               \n",
       "103381         22392  \n",
       "103404         28447  \n",
       "100759        474784  \n",
       "103246         29193  \n",
       "103451         46393  "
      ]
     },
     "execution_count": 3,
     "metadata": {},
     "output_type": "execute_result"
    }
   ],
   "source": [
    "df.head()"
   ]
  },
  {
   "cell_type": "code",
   "execution_count": 4,
   "metadata": {},
   "outputs": [
    {
     "data": {
      "text/plain": [
       "array(['Indepedent Producer Operator', 'Operating Subsidiary',\n",
       "       'Contractor'], dtype=object)"
      ]
     },
     "execution_count": 4,
     "metadata": {},
     "output_type": "execute_result"
    }
   ],
   "source": [
    "df['Company Type'].unique()"
   ]
  },
  {
   "cell_type": "code",
   "execution_count": 5,
   "metadata": {},
   "outputs": [],
   "source": [
    "df['Company Type'].replace(to_replace='Indepedent Producer Operator',\n",
    "                          value='Indepedent Producer Operator',\n",
    "                          inplace=True)"
   ]
  },
  {
   "cell_type": "code",
   "execution_count": 6,
   "metadata": {},
   "outputs": [
    {
     "data": {
      "text/plain": [
       "MSHA ID\n",
       "103381    Indepedent Producer Operator\n",
       "103404    Indepedent Producer Operator\n",
       "100759    Indepedent Producer Operator\n",
       "103246    Indepedent Producer Operator\n",
       "103451    Indepedent Producer Operator\n",
       "Name: Company Type, dtype: object"
      ]
     },
     "execution_count": 6,
     "metadata": {},
     "output_type": "execute_result"
    }
   ],
   "source": [
    "df['Company Type'].head()"
   ]
  },
  {
   "cell_type": "code",
   "execution_count": 7,
   "metadata": {},
   "outputs": [],
   "source": [
    "df.rename(columns=lambda x:x.replace(\" \",\"_\"),inplace=True)"
   ]
  },
  {
   "cell_type": "code",
   "execution_count": 8,
   "metadata": {},
   "outputs": [
    {
     "data": {
      "text/html": [
       "<div>\n",
       "<style scoped>\n",
       "    .dataframe tbody tr th:only-of-type {\n",
       "        vertical-align: middle;\n",
       "    }\n",
       "\n",
       "    .dataframe tbody tr th {\n",
       "        vertical-align: top;\n",
       "    }\n",
       "\n",
       "    .dataframe thead th {\n",
       "        text-align: right;\n",
       "    }\n",
       "</style>\n",
       "<table border=\"1\" class=\"dataframe\">\n",
       "  <thead>\n",
       "    <tr style=\"text-align: right;\">\n",
       "      <th></th>\n",
       "      <th>Year</th>\n",
       "      <th>Mine_Name</th>\n",
       "      <th>Mine_State</th>\n",
       "      <th>Mine_County</th>\n",
       "      <th>Mine_Status</th>\n",
       "      <th>Mine_Type</th>\n",
       "      <th>Company_Type</th>\n",
       "      <th>Operation_Type</th>\n",
       "      <th>Operating_Company</th>\n",
       "      <th>Operating_Company_Address</th>\n",
       "      <th>Union_Code</th>\n",
       "      <th>Coal_Supply_Region</th>\n",
       "      <th>Production_(short_tons)</th>\n",
       "      <th>Average_Employees</th>\n",
       "      <th>Labor_Hours</th>\n",
       "    </tr>\n",
       "    <tr>\n",
       "      <th>MSHA ID</th>\n",
       "      <th></th>\n",
       "      <th></th>\n",
       "      <th></th>\n",
       "      <th></th>\n",
       "      <th></th>\n",
       "      <th></th>\n",
       "      <th></th>\n",
       "      <th></th>\n",
       "      <th></th>\n",
       "      <th></th>\n",
       "      <th></th>\n",
       "      <th></th>\n",
       "      <th></th>\n",
       "      <th></th>\n",
       "      <th></th>\n",
       "    </tr>\n",
       "  </thead>\n",
       "  <tbody>\n",
       "    <tr>\n",
       "      <th>103381</th>\n",
       "      <td>2013</td>\n",
       "      <td>Tacoa Highwall Miner</td>\n",
       "      <td>Alabama</td>\n",
       "      <td>Bibb</td>\n",
       "      <td>Active, men working, not producing</td>\n",
       "      <td>Surface</td>\n",
       "      <td>Indepedent Producer Operator</td>\n",
       "      <td>Mine only</td>\n",
       "      <td>Jesse Creek Mining, Llc</td>\n",
       "      <td>1615 Kent Dairy Rd, Alabaster, AL 35007</td>\n",
       "      <td></td>\n",
       "      <td>Appalachia Southern</td>\n",
       "      <td>56004</td>\n",
       "      <td>10</td>\n",
       "      <td>22392</td>\n",
       "    </tr>\n",
       "    <tr>\n",
       "      <th>103404</th>\n",
       "      <td>2013</td>\n",
       "      <td>Reid School Mine</td>\n",
       "      <td>Alabama</td>\n",
       "      <td>Blount</td>\n",
       "      <td>Permanently abandoned</td>\n",
       "      <td>Surface</td>\n",
       "      <td>Indepedent Producer Operator</td>\n",
       "      <td>Mine only</td>\n",
       "      <td>Taft Coal Sales &amp; Associates,</td>\n",
       "      <td>3000 Riverchase Galleria Ste 1, Birmingham, AL...</td>\n",
       "      <td>UNIT</td>\n",
       "      <td>Appalachia Southern</td>\n",
       "      <td>28807</td>\n",
       "      <td>18</td>\n",
       "      <td>28447</td>\n",
       "    </tr>\n",
       "    <tr>\n",
       "      <th>100759</th>\n",
       "      <td>2013</td>\n",
       "      <td>North River #1 Underground Min</td>\n",
       "      <td>Alabama</td>\n",
       "      <td>Fayette</td>\n",
       "      <td>Active, men working, not producing</td>\n",
       "      <td>Underground</td>\n",
       "      <td>Indepedent Producer Operator</td>\n",
       "      <td>Mine and Preparation Plant</td>\n",
       "      <td>Jim Walter Resources Inc</td>\n",
       "      <td>3114 County Rd 63 S, Berry, AL 35546</td>\n",
       "      <td>UNIT</td>\n",
       "      <td>Appalachia Southern</td>\n",
       "      <td>1440115</td>\n",
       "      <td>183</td>\n",
       "      <td>474784</td>\n",
       "    </tr>\n",
       "    <tr>\n",
       "      <th>103246</th>\n",
       "      <td>2013</td>\n",
       "      <td>Bear Creek</td>\n",
       "      <td>Alabama</td>\n",
       "      <td>Franklin</td>\n",
       "      <td>Active</td>\n",
       "      <td>Surface</td>\n",
       "      <td>Indepedent Producer Operator</td>\n",
       "      <td>Mine only</td>\n",
       "      <td>Birmingham Coal &amp; Coke Co., In</td>\n",
       "      <td>912 Edenton Street, Birmingham, AL 35242</td>\n",
       "      <td></td>\n",
       "      <td>Appalachia Southern</td>\n",
       "      <td>87587</td>\n",
       "      <td>13</td>\n",
       "      <td>29193</td>\n",
       "    </tr>\n",
       "    <tr>\n",
       "      <th>103451</th>\n",
       "      <td>2013</td>\n",
       "      <td>Knight Mine</td>\n",
       "      <td>Alabama</td>\n",
       "      <td>Franklin</td>\n",
       "      <td>Active</td>\n",
       "      <td>Surface</td>\n",
       "      <td>Indepedent Producer Operator</td>\n",
       "      <td>Mine only</td>\n",
       "      <td>Birmingham Coal &amp; Coke Co., In</td>\n",
       "      <td>P.O. Box 354, Lynn, AL 35242</td>\n",
       "      <td></td>\n",
       "      <td>Appalachia Southern</td>\n",
       "      <td>147499</td>\n",
       "      <td>27</td>\n",
       "      <td>46393</td>\n",
       "    </tr>\n",
       "  </tbody>\n",
       "</table>\n",
       "</div>"
      ],
      "text/plain": [
       "         Year                       Mine_Name Mine_State Mine_County  \\\n",
       "MSHA ID                                                                \n",
       "103381   2013            Tacoa Highwall Miner    Alabama        Bibb   \n",
       "103404   2013                Reid School Mine    Alabama      Blount   \n",
       "100759   2013  North River #1 Underground Min    Alabama     Fayette   \n",
       "103246   2013                      Bear Creek    Alabama    Franklin   \n",
       "103451   2013                     Knight Mine    Alabama    Franklin   \n",
       "\n",
       "                                Mine_Status    Mine_Type  \\\n",
       "MSHA ID                                                    \n",
       "103381   Active, men working, not producing      Surface   \n",
       "103404                Permanently abandoned      Surface   \n",
       "100759   Active, men working, not producing  Underground   \n",
       "103246                               Active      Surface   \n",
       "103451                               Active      Surface   \n",
       "\n",
       "                         Company_Type              Operation_Type  \\\n",
       "MSHA ID                                                             \n",
       "103381   Indepedent Producer Operator                   Mine only   \n",
       "103404   Indepedent Producer Operator                   Mine only   \n",
       "100759   Indepedent Producer Operator  Mine and Preparation Plant   \n",
       "103246   Indepedent Producer Operator                   Mine only   \n",
       "103451   Indepedent Producer Operator                   Mine only   \n",
       "\n",
       "                      Operating_Company  \\\n",
       "MSHA ID                                   \n",
       "103381          Jesse Creek Mining, Llc   \n",
       "103404    Taft Coal Sales & Associates,   \n",
       "100759         Jim Walter Resources Inc   \n",
       "103246   Birmingham Coal & Coke Co., In   \n",
       "103451   Birmingham Coal & Coke Co., In   \n",
       "\n",
       "                                 Operating_Company_Address Union_Code  \\\n",
       "MSHA ID                                                                 \n",
       "103381             1615 Kent Dairy Rd, Alabaster, AL 35007              \n",
       "103404   3000 Riverchase Galleria Ste 1, Birmingham, AL...       UNIT   \n",
       "100759                3114 County Rd 63 S, Berry, AL 35546       UNIT   \n",
       "103246            912 Edenton Street, Birmingham, AL 35242              \n",
       "103451                        P.O. Box 354, Lynn, AL 35242              \n",
       "\n",
       "          Coal_Supply_Region  Production_(short_tons)  Average_Employees  \\\n",
       "MSHA ID                                                                    \n",
       "103381   Appalachia Southern                    56004                 10   \n",
       "103404   Appalachia Southern                    28807                 18   \n",
       "100759   Appalachia Southern                  1440115                183   \n",
       "103246   Appalachia Southern                    87587                 13   \n",
       "103451   Appalachia Southern                   147499                 27   \n",
       "\n",
       "         Labor_Hours  \n",
       "MSHA ID               \n",
       "103381         22392  \n",
       "103404         28447  \n",
       "100759        474784  \n",
       "103246         29193  \n",
       "103451         46393  "
      ]
     },
     "execution_count": 8,
     "metadata": {},
     "output_type": "execute_result"
    }
   ],
   "source": [
    "df.head()"
   ]
  },
  {
   "cell_type": "code",
   "execution_count": 21,
   "metadata": {},
   "outputs": [
    {
     "data": {
      "text/plain": [
       "1450"
      ]
     },
     "execution_count": 21,
     "metadata": {},
     "output_type": "execute_result"
    }
   ],
   "source": [
    "len(df)"
   ]
  },
  {
   "cell_type": "code",
   "execution_count": 9,
   "metadata": {},
   "outputs": [
    {
     "data": {
      "text/plain": [
       "Text(0.5, 0, 'Number of')"
      ]
     },
     "execution_count": 9,
     "metadata": {},
     "output_type": "execute_result"
    },
    {
     "data": {
      "image/png": "[encoded data removed]",
      "text/plain": [
       "<Figure size 432x288 with 1 Axes>"
      ]
     },
     "metadata": {},
     "output_type": "display_data"
    }
   ],
   "source": [
    "plt.scatter(df.Average_Employees, df.Labor_Hours)\n",
    "plt.xlabel('Number of')"
   ]
  },
  {
   "cell_type": "code",
   "execution_count": 14,
   "metadata": {},
   "outputs": [
    {
     "data": {
      "image/png": "[encoded data removed]",
      "text/plain": [
       "<Figure size 432x288 with 1 Axes>"
      ]
     },
     "metadata": {},
     "output_type": "display_data"
    }
   ],
   "source": [
    "sns.regplot(df.Average_Employees, df.Labor_Hours,)\n",
    "plt.savefig(\"../figures/2019-12-15\"+\"-employees_vs_hours.png\")"
   ]
  },
  {
   "cell_type": "code",
   "execution_count": 17,
   "metadata": {},
   "outputs": [
    {
     "name": "stdout",
     "output_type": "stream",
     "text": [
      "Year\n",
      "Mine_Name\n",
      "Mine_State\n",
      "Mine_County\n",
      "Mine_Status\n",
      "Mine_Type\n",
      "Company_Type\n",
      "Operation_Type\n",
      "Operating_Company\n",
      "Operating_Company_Address\n",
      "Union_Code\n",
      "Coal_Supply_Region\n",
      "Production_(short_tons)\n",
      "Average_Employees\n",
      "Labor_Hours\n"
     ]
    }
   ],
   "source": [
    "for column in df.columns:\n",
    "    print (column)"
   ]
  },
  {
   "cell_type": "code",
   "execution_count": 18,
   "metadata": {},
   "outputs": [
    {
     "data": {
      "text/plain": [
       "<matplotlib.collections.PathCollection at 0x1a215f4390>"
      ]
     },
     "execution_count": 18,
     "metadata": {},
     "output_type": "execute_result"
    },
    {
     "data": {
      "image/png": "[encoded data removed]",
      "text/plain": [
       "<Figure size 432x288 with 1 Axes>"
      ]
     },
     "metadata": {},
     "output_type": "display_data"
    }
   ],
   "source": [
    "plt.scatter(df.Labor_Hours, df['Production_(short_tons)'])"
   ]
  },
  {
   "cell_type": "code",
   "execution_count": 19,
   "metadata": {},
   "outputs": [
    {
     "data": {
      "text/plain": [
       "<matplotlib.axes._subplots.AxesSubplot at 0x1a21f30fd0>"
      ]
     },
     "execution_count": 19,
     "metadata": {},
     "output_type": "execute_result"
    },
    {
     "data": {
      "image/png": "[encoded data removed]",
      "text/plain": [
       "<Figure size 432x288 with 1 Axes>"
      ]
     },
     "metadata": {},
     "output_type": "display_data"
    }
   ],
   "source": [
    "df['Production_(short_tons)'].hist()"
   ]
  },
  {
   "cell_type": "code",
   "execution_count": 24,
   "metadata": {},
   "outputs": [],
   "source": [
    "# removing data\n",
    "df=df[df['Production_(short_tons)']>0]"
   ]
  },
  {
   "cell_type": "code",
   "execution_count": 25,
   "metadata": {},
   "outputs": [
    {
     "data": {
      "text/plain": [
       "1061"
      ]
     },
     "execution_count": 25,
     "metadata": {},
     "output_type": "execute_result"
    }
   ],
   "source": [
    "len(df)"
   ]
  },
  {
   "cell_type": "code",
   "execution_count": 26,
   "metadata": {},
   "outputs": [
    {
     "data": {
      "text/plain": [
       "<matplotlib.axes._subplots.AxesSubplot at 0x1a2106cf10>"
      ]
     },
     "execution_count": 26,
     "metadata": {},
     "output_type": "execute_result"
    },
    {
     "data": {
      "image/png": "[encoded data removed]",
      "text/plain": [
       "<Figure size 432x288 with 1 Axes>"
      ]
     },
     "metadata": {},
     "output_type": "display_data"
    }
   ],
   "source": [
    "df['Production_(short_tons)'].hist() #skewwwed"
   ]
  },
  {
   "cell_type": "code",
   "execution_count": 30,
   "metadata": {},
   "outputs": [
    {
     "name": "stderr",
     "output_type": "stream",
     "text": [
      "/Users/jyuan/miniconda3/envs/py3/lib/python3.7/site-packages/ipykernel_launcher.py:1: SettingWithCopyWarning: \n",
      "A value is trying to be set on a copy of a slice from a DataFrame.\n",
      "Try using .loc[row_indexer,col_indexer] = value instead\n",
      "\n",
      "See the caveats in the documentation: http://pandas.pydata.org/pandas-docs/stable/user_guide/indexing.html#returning-a-view-versus-a-copy\n",
      "  \"\"\"Entry point for launching an IPython kernel.\n"
     ]
    }
   ],
   "source": [
    "df['log_production']=np.log(df['Production_(short_tons)'])"
   ]
  },
  {
   "cell_type": "code",
   "execution_count": 31,
   "metadata": {},
   "outputs": [
    {
     "data": {
      "text/plain": [
       "<matplotlib.axes._subplots.AxesSubplot at 0x1a21665e50>"
      ]
     },
     "execution_count": 31,
     "metadata": {},
     "output_type": "execute_result"
    },
    {
     "data": {
      "image/png": "[encoded data removed]",
      "text/plain": [
       "<Figure size 432x288 with 1 Axes>"
      ]
     },
     "metadata": {},
     "output_type": "display_data"
    }
   ],
   "source": [
    "df.log_production.hist()"
   ]
  },
  {
   "cell_type": "code",
   "execution_count": 32,
   "metadata": {},
   "outputs": [],
   "source": [
    "df.to_csv(\"../data/cleaned_coalpublic2013.csv\")"
   ]
  },
  {
   "cell_type": "code",
   "execution_count": null,
   "metadata": {},
   "outputs": [],
   "source": []
  }
 ],
 "metadata": {
  "kernelspec": {
   "display_name": "Python 3",
   "language": "python",
   "name": "python3"
  },
  "language_info": {
   "codemirror_mode": {
    "name": "ipython",
    "version": 3
   },
   "file_extension": ".py",
   "mimetype": "text/x-python",
   "name": "python",
   "nbconvert_exporter": "python",
   "pygments_lexer": "ipython3",
   "version": "3.7.5"
  }
 },
 "nbformat": 4,
 "nbformat_minor": 2
}
